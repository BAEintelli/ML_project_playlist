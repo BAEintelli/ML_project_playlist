{
 "cells": [
  {
   "cell_type": "markdown",
   "metadata": {},
   "source": [
    "## 1. song에서 tags를 만들기"
   ]
  },
  {
   "cell_type": "code",
   "execution_count": null,
   "metadata": {},
   "outputs": [],
   "source": [
    "train = pd.read_json('datas/train.json', typ = 'frame')\n",
    "train"
   ]
  },
  {
   "cell_type": "code",
   "execution_count": null,
   "metadata": {},
   "outputs": [],
   "source": [
    "tagandsong = train.loc[:,['tags','songs']]"
   ]
  },
  {
   "cell_type": "code",
   "execution_count": null,
   "metadata": {},
   "outputs": [],
   "source": [
    "# song에 tag 붙이기(1) song - tag 1:1\n",
    "\n",
    "from tqdm.notebook import tqdm\n",
    "tag_songs = []\n",
    "for i in tqdm(range(0, len(tagandsong))):\n",
    "    for j in range(0, len(tagandsong['tags'][i])):\n",
    "        for k in range(0,len(tagandsong['songs'][i])):\n",
    "            tag_song = [tagandsong['songs'][i][k], [tagandsong['tags'][i][j]]]\n",
    "            tag_songs.append(tag_song)"
   ]
  },
  {
   "cell_type": "code",
   "execution_count": null,
   "metadata": {},
   "outputs": [],
   "source": [
    "# song에 tag 붙이기(2) song - tag = 1:n\n",
    "df = pd.DataFrame(tag_songs, columns= ['songs', 'tags'])\n",
    "song_tags = pd.DataFrame(df['tags'].groupby(df['songs']).sum())\n",
    "song_tags.reset_index(inplace = True)"
   ]
  },
  {
   "cell_type": "code",
   "execution_count": null,
   "metadata": {},
   "outputs": [],
   "source": [
    "# tags count 붙이기\n",
    "song_tags['tags_num'] = np.nan\n",
    "for i in range(0,len(song_tags)):\n",
    "    song_tags['tags_num'][i] = sorted(Counter(song_tags['tags'][i]).items(), key = lambda x:x[1],reverse=True)\n",
    "    song_tags['tags_num'][i] = dict(song_tags['tags_num'][i])"
   ]
  },
  {
   "cell_type": "code",
   "execution_count": null,
   "metadata": {},
   "outputs": [],
   "source": [
    "# 저장\n",
    "song_tags.to_json('datas/song_tags.json')"
   ]
  },
  {
   "cell_type": "code",
   "execution_count": 1,
   "metadata": {},
   "outputs": [
    {
     "data": {
      "text/html": [
       "<div>\n",
       "<style scoped>\n",
       "    .dataframe tbody tr th:only-of-type {\n",
       "        vertical-align: middle;\n",
       "    }\n",
       "\n",
       "    .dataframe tbody tr th {\n",
       "        vertical-align: top;\n",
       "    }\n",
       "\n",
       "    .dataframe thead th {\n",
       "        text-align: right;\n",
       "    }\n",
       "</style>\n",
       "<table border=\"1\" class=\"dataframe\">\n",
       "  <thead>\n",
       "    <tr style=\"text-align: right;\">\n",
       "      <th></th>\n",
       "      <th>songs</th>\n",
       "      <th>tags</th>\n",
       "      <th>tags_num</th>\n",
       "    </tr>\n",
       "  </thead>\n",
       "  <tbody>\n",
       "    <tr>\n",
       "      <th>0</th>\n",
       "      <td>0</td>\n",
       "      <td>[비오는날, 드라이브, 비오는날, 추억, 회상]</td>\n",
       "      <td>{'비오는날': 2, '드라이브': 1, '추억': 1, '회상': 1}</td>\n",
       "    </tr>\n",
       "    <tr>\n",
       "      <th>1</th>\n",
       "      <td>3</td>\n",
       "      <td>[1, 감성, 듣기좋은, 드라이브, Pop, 여행, 기분전환, 팝, 신나는, 클럽,...</td>\n",
       "      <td>{'기분전환': 3, '신나는': 3, '드라이브': 2, '클럽': 2, '페스티...</td>\n",
       "    </tr>\n",
       "    <tr>\n",
       "      <th>2</th>\n",
       "      <td>4</td>\n",
       "      <td>[뉴에이지, 뉴에이지]</td>\n",
       "      <td>{'뉴에이지': 2}</td>\n",
       "    </tr>\n",
       "    <tr>\n",
       "      <th>3</th>\n",
       "      <td>5</td>\n",
       "      <td>[비오는날, 재즈, 락, 발라드, 휴식, 리메이크, 재즈, 힐링송, 힐링, 기분전환...</td>\n",
       "      <td>{'재즈': 2, '비오는날': 1, '락': 1, '발라드': 1, '휴식': 1...</td>\n",
       "    </tr>\n",
       "    <tr>\n",
       "      <th>4</th>\n",
       "      <td>6</td>\n",
       "      <td>[클래식, 산책, 조깅]</td>\n",
       "      <td>{'클래식': 1, '산책': 1, '조깅': 1}</td>\n",
       "    </tr>\n",
       "    <tr>\n",
       "      <th>...</th>\n",
       "      <td>...</td>\n",
       "      <td>...</td>\n",
       "      <td>...</td>\n",
       "    </tr>\n",
       "    <tr>\n",
       "      <th>615137</th>\n",
       "      <td>707984</td>\n",
       "      <td>[월드뮤직]</td>\n",
       "      <td>{'월드뮤직': 1}</td>\n",
       "    </tr>\n",
       "    <tr>\n",
       "      <th>615138</th>\n",
       "      <td>707985</td>\n",
       "      <td>[Pop, 해외차트, 시대별차트, 신디로퍼, Pop, 1980, 라이벌, 록]</td>\n",
       "      <td>{'Pop': 2, '해외차트': 1, '시대별차트': 1, '신디로퍼': 1, '...</td>\n",
       "    </tr>\n",
       "    <tr>\n",
       "      <th>615139</th>\n",
       "      <td>707986</td>\n",
       "      <td>[힙합, 랩, 발라드, 감성, 리메이크곡, 카페, 잔잔한, 추억, 위로, 힐링, 사...</td>\n",
       "      <td>{'발라드': 5, '잔잔한': 4, '이별': 4, '감성': 3, '추억': 3...</td>\n",
       "    </tr>\n",
       "    <tr>\n",
       "      <th>615140</th>\n",
       "      <td>707987</td>\n",
       "      <td>[집중, 노동요, 새벽, 오후, 자장가, 공부]</td>\n",
       "      <td>{'집중': 1, '노동요': 1, '새벽': 1, '오후': 1, '자장가': 1...</td>\n",
       "    </tr>\n",
       "    <tr>\n",
       "      <th>615141</th>\n",
       "      <td>707988</td>\n",
       "      <td>[데뷔24년, 김경호, 샤우팅의_지존]</td>\n",
       "      <td>{'데뷔24년': 1, '김경호': 1, '샤우팅의_지존': 1}</td>\n",
       "    </tr>\n",
       "  </tbody>\n",
       "</table>\n",
       "<p>615142 rows × 3 columns</p>\n",
       "</div>"
      ],
      "text/plain": [
       "         songs                                               tags  \\\n",
       "0            0                         [비오는날, 드라이브, 비오는날, 추억, 회상]   \n",
       "1            3  [1, 감성, 듣기좋은, 드라이브, Pop, 여행, 기분전환, 팝, 신나는, 클럽,...   \n",
       "2            4                                       [뉴에이지, 뉴에이지]   \n",
       "3            5  [비오는날, 재즈, 락, 발라드, 휴식, 리메이크, 재즈, 힐링송, 힐링, 기분전환...   \n",
       "4            6                                      [클래식, 산책, 조깅]   \n",
       "...        ...                                                ...   \n",
       "615137  707984                                             [월드뮤직]   \n",
       "615138  707985        [Pop, 해외차트, 시대별차트, 신디로퍼, Pop, 1980, 라이벌, 록]   \n",
       "615139  707986  [힙합, 랩, 발라드, 감성, 리메이크곡, 카페, 잔잔한, 추억, 위로, 힐링, 사...   \n",
       "615140  707987                         [집중, 노동요, 새벽, 오후, 자장가, 공부]   \n",
       "615141  707988                              [데뷔24년, 김경호, 샤우팅의_지존]   \n",
       "\n",
       "                                                 tags_num  \n",
       "0                {'비오는날': 2, '드라이브': 1, '추억': 1, '회상': 1}  \n",
       "1       {'기분전환': 3, '신나는': 3, '드라이브': 2, '클럽': 2, '페스티...  \n",
       "2                                             {'뉴에이지': 2}  \n",
       "3       {'재즈': 2, '비오는날': 1, '락': 1, '발라드': 1, '휴식': 1...  \n",
       "4                            {'클래식': 1, '산책': 1, '조깅': 1}  \n",
       "...                                                   ...  \n",
       "615137                                        {'월드뮤직': 1}  \n",
       "615138  {'Pop': 2, '해외차트': 1, '시대별차트': 1, '신디로퍼': 1, '...  \n",
       "615139  {'발라드': 5, '잔잔한': 4, '이별': 4, '감성': 3, '추억': 3...  \n",
       "615140  {'집중': 1, '노동요': 1, '새벽': 1, '오후': 1, '자장가': 1...  \n",
       "615141               {'데뷔24년': 1, '김경호': 1, '샤우팅의_지존': 1}  \n",
       "\n",
       "[615142 rows x 3 columns]"
      ]
     },
     "execution_count": 1,
     "metadata": {},
     "output_type": "execute_result"
    }
   ],
   "source": [
    "# 불러오기\n",
    "song_tags = pd.read_json('datas/song_tags.json')\n",
    "song_tags"
   ]
  },
  {
   "cell_type": "markdown",
   "metadata": {},
   "source": [
    "## 2. tag에서 songs 만들기"
   ]
  },
  {
   "cell_type": "code",
   "execution_count": null,
   "metadata": {},
   "outputs": [],
   "source": [
    "tagandsong = train.loc[:,['tags','songs']]\n",
    "tagandsong"
   ]
  },
  {
   "cell_type": "code",
   "execution_count": null,
   "metadata": {},
   "outputs": [],
   "source": [
    "# song에 tag 붙이기(1) song - tag 1:1\n",
    "\n",
    "from tqdm.notebook import tqdm\n",
    "song_tags = []\n",
    "# tagandsong_idx = i\n",
    "for i in tqdm(range(0, len(tagandsong))):\n",
    "    #song_idx = j\n",
    "    for j in range(0, len(tagandsong['songs'][i])):\n",
    "        #tag_idx = k\n",
    "        for k in range(0,len(tagandsong['tags'][i])):\n",
    "            song_tag = [tagandsong['tags'][i][k], [tagandsong['songs'][i][j]]]\n",
    "            song_tags.append(song_tag)"
   ]
  },
  {
   "cell_type": "code",
   "execution_count": null,
   "metadata": {},
   "outputs": [],
   "source": [
    "df = pd.DataFrame(song_tags, columns= ['tags', 'songs'])\n",
    "df"
   ]
  },
  {
   "cell_type": "code",
   "execution_count": null,
   "metadata": {},
   "outputs": [],
   "source": [
    "# df의 데이터가 너무많아서 4번으로 나눠서 함(1/4)\n",
    "from collections import Counter\n",
    "from tqdm import notebook\n",
    "\n",
    "empty_df = []\n",
    "for i in notebook.tqdm(range(0,22900000,100000)):\n",
    "    sample = df[i:i+100000]\n",
    "    tag_songs = pd.DataFrame(sample['songs'].groupby(sample['tags']).sum())\n",
    "    tag_songs.reset_index(inplace = True)\n",
    "    empty_df.append(tag_songs)"
   ]
  },
  {
   "cell_type": "code",
   "execution_count": null,
   "metadata": {},
   "outputs": [],
   "source": [
    "df2 = pd.concat(empty_df)\n",
    "df2"
   ]
  },
  {
   "cell_type": "code",
   "execution_count": null,
   "metadata": {},
   "outputs": [],
   "source": [
    "# df의 데이터가 너무많아서 4번으로 나눠서 함(2/4)\n",
    "empty_df2 = []\n",
    "for i in notebook.tqdm(range(0,175726,10000)):\n",
    "    sample2 = df2[i:i+10000]\n",
    "    tag_songs = pd.DataFrame(sample2['songs'].groupby(sample2['tags']).sum())\n",
    "    tag_songs.reset_index(inplace = True)\n",
    "    empty_df2.append(tag_songs)\n",
    "df3 = pd.concat(empty_df2)\n",
    "df3"
   ]
  },
  {
   "cell_type": "code",
   "execution_count": null,
   "metadata": {},
   "outputs": [],
   "source": [
    "df3.reset_index(drop = True, inplace = True)\n",
    "df3"
   ]
  },
  {
   "cell_type": "code",
   "execution_count": null,
   "metadata": {},
   "outputs": [],
   "source": [
    "# df의 데이터가 너무많아서 4번으로 나눠서 함(3/4)\n",
    "empty_df3 = []\n",
    "for i in notebook.tqdm(range(0,82825,40000)):\n",
    "    sample3 = df3[i:i+40000]\n",
    "    tag_songs = pd.DataFrame(sample3['songs'].groupby(sample3['tags']).sum())\n",
    "    tag_songs.reset_index(inplace = True)\n",
    "    empty_df3.append(tag_songs)\n",
    "df4 = pd.concat(empty_df3)\n",
    "df4"
   ]
  },
  {
   "cell_type": "code",
   "execution_count": null,
   "metadata": {},
   "outputs": [],
   "source": [
    "# df의 데이터가 너무많아서 4번으로 나눠서 함(4/4)\n",
    "tag_songs = pd.DataFrame(df4['songs'].groupby(df4['tags']).sum())\n",
    "tag_songs.reset_index(inplace = True)\n",
    "tag_songs"
   ]
  },
  {
   "cell_type": "code",
   "execution_count": null,
   "metadata": {},
   "outputs": [],
   "source": [
    "# song count 붙이기\n",
    "tag_songs['songs_num'] = np.nan\n",
    "for i in range(0,len(song_tags)):\n",
    "    tag_songs['songs_num'][i] = sorted(Counter(tag_songs['songs'][i]).items(), key = lambda x:x[1],reverse=True)\n",
    "    tag_songs['songs_num'][i] = dict(tag_songs['songs_num'][i])"
   ]
  },
  {
   "cell_type": "code",
   "execution_count": 3,
   "metadata": {},
   "outputs": [
    {
     "data": {
      "text/html": [
       "<div>\n",
       "<style scoped>\n",
       "    .dataframe tbody tr th:only-of-type {\n",
       "        vertical-align: middle;\n",
       "    }\n",
       "\n",
       "    .dataframe tbody tr th {\n",
       "        vertical-align: top;\n",
       "    }\n",
       "\n",
       "    .dataframe thead th {\n",
       "        text-align: right;\n",
       "    }\n",
       "</style>\n",
       "<table border=\"1\" class=\"dataframe\">\n",
       "  <thead>\n",
       "    <tr style=\"text-align: right;\">\n",
       "      <th></th>\n",
       "      <th>tags</th>\n",
       "      <th>songs</th>\n",
       "      <th>songs_num</th>\n",
       "    </tr>\n",
       "  </thead>\n",
       "  <tbody>\n",
       "    <tr>\n",
       "      <th>0</th>\n",
       "      <td></td>\n",
       "      <td>[253222, 270262, 301533, 136007, 238347, 13384...</td>\n",
       "      <td>{'253222': 1, '270262': 1, '301533': 1, '13600...</td>\n",
       "    </tr>\n",
       "    <tr>\n",
       "      <th>1</th>\n",
       "      <td>00</td>\n",
       "      <td>[496456, 323561, 452688, 503200, 102389, 58602...</td>\n",
       "      <td>{'496456': 1, '323561': 1, '452688': 1, '50320...</td>\n",
       "    </tr>\n",
       "    <tr>\n",
       "      <th>2</th>\n",
       "      <td>007</td>\n",
       "      <td>[571824, 181423, 333856, 291812, 402460, 10929...</td>\n",
       "      <td>{'291812': 3, '359929': 3, '210978': 2, '33130...</td>\n",
       "    </tr>\n",
       "    <tr>\n",
       "      <th>3</th>\n",
       "      <td>007시리즈</td>\n",
       "      <td>[427367, 181423, 492240, 333856, 291812, 67710...</td>\n",
       "      <td>{'427367': 2, '181423': 2, '492240': 2, '33385...</td>\n",
       "    </tr>\n",
       "    <tr>\n",
       "      <th>4</th>\n",
       "      <td>00s</td>\n",
       "      <td>[367143, 35117, 387871, 651040, 551409, 544099...</td>\n",
       "      <td>{'580074': 3, '117595': 2, '176961': 2, '58477...</td>\n",
       "    </tr>\n",
       "    <tr>\n",
       "      <th>...</th>\n",
       "      <td>...</td>\n",
       "      <td>...</td>\n",
       "      <td>...</td>\n",
       "    </tr>\n",
       "    <tr>\n",
       "      <th>29155</th>\n",
       "      <td>힙해</td>\n",
       "      <td>[554524, 653392, 669251, 217370, 627771, 75076...</td>\n",
       "      <td>{'363570': 3, '653392': 2, '18117': 2, '271156...</td>\n",
       "    </tr>\n",
       "    <tr>\n",
       "      <th>29156</th>\n",
       "      <td>힙힙힙</td>\n",
       "      <td>[146247, 152953, 170279, 703985, 591826, 46060...</td>\n",
       "      <td>{'44113': 2, '146247': 1, '152953': 1, '170279...</td>\n",
       "    </tr>\n",
       "    <tr>\n",
       "      <th>29157</th>\n",
       "      <td>힛뎀포크</td>\n",
       "      <td>[251011, 14923, 605624, 4819, 442751, 538647, ...</td>\n",
       "      <td>{'251011': 1, '14923': 1, '605624': 1, '4819':...</td>\n",
       "    </tr>\n",
       "    <tr>\n",
       "      <th>29158</th>\n",
       "      <td>힛뎀폭</td>\n",
       "      <td>[251011, 14923, 605624, 4819, 442751, 538647, ...</td>\n",
       "      <td>{'251011': 1, '14923': 1, '605624': 1, '4819':...</td>\n",
       "    </tr>\n",
       "    <tr>\n",
       "      <th>29159</th>\n",
       "      <td>힛뎀폭스</td>\n",
       "      <td>[251011, 14923, 605624, 4819, 442751, 538647, ...</td>\n",
       "      <td>{'404976': 2, '432284': 2, '520506': 2, '69596...</td>\n",
       "    </tr>\n",
       "  </tbody>\n",
       "</table>\n",
       "<p>29160 rows × 3 columns</p>\n",
       "</div>"
      ],
      "text/plain": [
       "         tags                                              songs  \\\n",
       "0              [253222, 270262, 301533, 136007, 238347, 13384...   \n",
       "1          00  [496456, 323561, 452688, 503200, 102389, 58602...   \n",
       "2         007  [571824, 181423, 333856, 291812, 402460, 10929...   \n",
       "3      007시리즈  [427367, 181423, 492240, 333856, 291812, 67710...   \n",
       "4         00s  [367143, 35117, 387871, 651040, 551409, 544099...   \n",
       "...       ...                                                ...   \n",
       "29155      힙해  [554524, 653392, 669251, 217370, 627771, 75076...   \n",
       "29156     힙힙힙  [146247, 152953, 170279, 703985, 591826, 46060...   \n",
       "29157    힛뎀포크  [251011, 14923, 605624, 4819, 442751, 538647, ...   \n",
       "29158     힛뎀폭  [251011, 14923, 605624, 4819, 442751, 538647, ...   \n",
       "29159    힛뎀폭스  [251011, 14923, 605624, 4819, 442751, 538647, ...   \n",
       "\n",
       "                                               songs_num  \n",
       "0      {'253222': 1, '270262': 1, '301533': 1, '13600...  \n",
       "1      {'496456': 1, '323561': 1, '452688': 1, '50320...  \n",
       "2      {'291812': 3, '359929': 3, '210978': 2, '33130...  \n",
       "3      {'427367': 2, '181423': 2, '492240': 2, '33385...  \n",
       "4      {'580074': 3, '117595': 2, '176961': 2, '58477...  \n",
       "...                                                  ...  \n",
       "29155  {'363570': 3, '653392': 2, '18117': 2, '271156...  \n",
       "29156  {'44113': 2, '146247': 1, '152953': 1, '170279...  \n",
       "29157  {'251011': 1, '14923': 1, '605624': 1, '4819':...  \n",
       "29158  {'251011': 1, '14923': 1, '605624': 1, '4819':...  \n",
       "29159  {'404976': 2, '432284': 2, '520506': 2, '69596...  \n",
       "\n",
       "[29160 rows x 3 columns]"
      ]
     },
     "execution_count": 3,
     "metadata": {},
     "output_type": "execute_result"
    }
   ],
   "source": [
    "# 불러오기\n",
    "tag_songs = pd.read_json('datas/tag_songs.json')\n",
    "tag_songs"
   ]
  },
  {
   "cell_type": "markdown",
   "metadata": {},
   "source": [
    "## 3. tag에 장르 붙이기"
   ]
  },
  {
   "cell_type": "code",
   "execution_count": null,
   "metadata": {},
   "outputs": [],
   "source": [
    "song_meta = pd.read_json('datas/song_meta.json')\n",
    "song_tags = pd.read_json('datas/song_tags.json')"
   ]
  },
  {
   "cell_type": "code",
   "execution_count": null,
   "metadata": {},
   "outputs": [],
   "source": [
    "sample= song_meta[['id', 'song_gn_gnr_basket','song_gn_dtl_gnr_basket']]\n",
    "song_grn = sample['song_gn_gnr_basket'] + sample['song_gn_dtl_gnr_basket']\n",
    "song = pd.DataFrame(song_grn)\n",
    "song.reset_index(inplace = True)\n",
    "song = song.rename(columns={\"index\": \"id\", 0: 'gn'})\n",
    "song"
   ]
  },
  {
   "cell_type": "code",
   "execution_count": null,
   "metadata": {},
   "outputs": [],
   "source": [
    "temp = pd.merge(song_tags, song, left_on = 'songs', right_on= 'id')\n",
    "temp"
   ]
  },
  {
   "cell_type": "code",
   "execution_count": null,
   "metadata": {},
   "outputs": [],
   "source": [
    "# list(temp['tags_num'][i].items())[j][0], key\n",
    "# list(temp['tags_num'][i].items())[j][1], values\n",
    "\n",
    "from tqdm.notebook import tqdm\n",
    "tag_gns = []\n",
    "for i in tqdm(range(0, len(temp))):\n",
    "    for j in range(0, len(temp['tags_num'][i])):\n",
    "        tag_gns.append({'tags': list(temp['tags_num'][i].items())[j][0],\n",
    "                        'gn': temp['gn'][i] * list(temp['tags_num'][i].items())[j][1]})"
   ]
  },
  {
   "cell_type": "code",
   "execution_count": null,
   "metadata": {},
   "outputs": [],
   "source": [
    "tag_gns_df = pd.DataFrame(tag_gns)"
   ]
  },
  {
   "cell_type": "code",
   "execution_count": null,
   "metadata": {},
   "outputs": [],
   "source": [
    "len(tag_gns_df)"
   ]
  },
  {
   "cell_type": "code",
   "execution_count": null,
   "metadata": {},
   "outputs": [],
   "source": [
    "# df의 데이터가 너무많아서 4번으로 나눠서 함(1/4)\n",
    "from collections import Counter\n",
    "from tqdm import notebook\n",
    "\n",
    "empty_df = []\n",
    "for i in notebook.tqdm(range(0,10984669,100000)):\n",
    "    sample = tag_gns_df[i:i+100000]\n",
    "    temp = pd.DataFrame(sample['gn'].groupby(sample['tags']).sum())\n",
    "    temp.reset_index(inplace = True)\n",
    "    empty_df.append(temp)"
   ]
  },
  {
   "cell_type": "code",
   "execution_count": null,
   "metadata": {},
   "outputs": [],
   "source": [
    "tag_gns_df2 = pd.concat(empty_df)\n",
    "tag_gns_df2"
   ]
  },
  {
   "cell_type": "code",
   "execution_count": null,
   "metadata": {},
   "outputs": [],
   "source": [
    "# df의 데이터가 너무많아서 4번으로 나눠서 함(2/4)\n",
    "from collections import Counter\n",
    "from tqdm import notebook\n",
    "\n",
    "empty_df = []\n",
    "for i in notebook.tqdm(range(0,1483641,100000)):\n",
    "    sample = tag_gns_df2[i:i+100000]\n",
    "    temp = pd.DataFrame(sample['gn'].groupby(sample['tags']).sum())\n",
    "    temp.reset_index(inplace = True)\n",
    "    empty_df.append(temp)"
   ]
  },
  {
   "cell_type": "code",
   "execution_count": null,
   "metadata": {},
   "outputs": [],
   "source": [
    "tag_gns_df3 = pd.concat(empty_df)\n",
    "tag_gns_df3"
   ]
  },
  {
   "cell_type": "code",
   "execution_count": null,
   "metadata": {},
   "outputs": [],
   "source": [
    "# df의 데이터가 너무많아서 4번으로 나눠서 함(3/4)\n",
    "from collections import Counter\n",
    "from tqdm import notebook\n",
    "\n",
    "empty_df = []\n",
    "for i in notebook.tqdm(range(0,388663,100000)):\n",
    "    sample = tag_gns_df3[i:i+100000]\n",
    "    temp = pd.DataFrame(sample['gn'].groupby(sample['tags']).sum())\n",
    "    temp.reset_index(inplace = True)\n",
    "    empty_df.append(temp)"
   ]
  },
  {
   "cell_type": "code",
   "execution_count": null,
   "metadata": {},
   "outputs": [],
   "source": [
    "tag_gns_df4 = pd.concat(empty_df)\n",
    "tag_gns_df4"
   ]
  },
  {
   "cell_type": "code",
   "execution_count": null,
   "metadata": {},
   "outputs": [],
   "source": [
    "# df의 데이터가 너무많아서 4번으로 나눠서 함(4/4)\n",
    "tag_gns = pd.DataFrame(tag_gns_df4['gn'].groupby(tag_gns_df4['tags']).sum())\n",
    "tag_gns.reset_index(inplace = True)\n",
    "tag_gns"
   ]
  },
  {
   "cell_type": "code",
   "execution_count": null,
   "metadata": {},
   "outputs": [],
   "source": [
    "# song count 붙이기\n",
    "from collections import Counter\n",
    "tag_gns['gn_num'] = np.nan\n",
    "for i in range(0,len(tag_gns)):\n",
    "    tag_gns['gn_num'][i] = sorted(Counter(tag_gns['gn'][i]).items(), key = lambda x:x[1],reverse=True)\n",
    "    tag_gns['gn_num'][i] = dict(tag_gns['gn_num'][i])"
   ]
  },
  {
   "cell_type": "code",
   "execution_count": null,
   "metadata": {},
   "outputs": [],
   "source": [
    "tag_gns.to_json('datas/tag_gns.json')"
   ]
  },
  {
   "cell_type": "code",
   "execution_count": 1,
   "metadata": {},
   "outputs": [
    {
     "data": {
      "text/html": [
       "<div>\n",
       "<style scoped>\n",
       "    .dataframe tbody tr th:only-of-type {\n",
       "        vertical-align: middle;\n",
       "    }\n",
       "\n",
       "    .dataframe tbody tr th {\n",
       "        vertical-align: top;\n",
       "    }\n",
       "\n",
       "    .dataframe thead th {\n",
       "        text-align: right;\n",
       "    }\n",
       "</style>\n",
       "<table border=\"1\" class=\"dataframe\">\n",
       "  <thead>\n",
       "    <tr style=\"text-align: right;\">\n",
       "      <th></th>\n",
       "      <th>tags</th>\n",
       "      <th>gn</th>\n",
       "      <th>gn_num</th>\n",
       "    </tr>\n",
       "  </thead>\n",
       "  <tbody>\n",
       "    <tr>\n",
       "      <th>0</th>\n",
       "      <td></td>\n",
       "      <td>[GN1200, GN1209, GN1201, GN1300, GN1301, GN130...</td>\n",
       "      <td>{'GN1200': 15, 'GN1201': 15, 'GN1300': 10, 'GN...</td>\n",
       "    </tr>\n",
       "    <tr>\n",
       "      <th>1</th>\n",
       "      <td>00</td>\n",
       "      <td>[GN2500, GN0200, GN2503, GN2501, GN0204, GN250...</td>\n",
       "      <td>{'GN0300': 46, 'GN0301': 46, 'GN0200': 37, 'GN...</td>\n",
       "    </tr>\n",
       "    <tr>\n",
       "      <th>2</th>\n",
       "      <td>007</td>\n",
       "      <td>[GN1500, GN1000, GN1006, GN1503, GN1501, GN150...</td>\n",
       "      <td>{'GN1500': 31, 'GN1501': 31, 'GN1503': 28, 'GN...</td>\n",
       "    </tr>\n",
       "    <tr>\n",
       "      <th>3</th>\n",
       "      <td>007시리즈</td>\n",
       "      <td>[GN1500, GN1503, GN1501, GN1500, GN1503, GN150...</td>\n",
       "      <td>{'GN0900': 18, 'GN0901': 16, 'GN1500': 12, 'GN...</td>\n",
       "    </tr>\n",
       "    <tr>\n",
       "      <th>4</th>\n",
       "      <td>00s</td>\n",
       "      <td>[GN0100, GN0101, GN0103, GN0200, GN0203, GN020...</td>\n",
       "      <td>{'GN0100': 125, 'GN0101': 116, 'GN0104': 69, '...</td>\n",
       "    </tr>\n",
       "    <tr>\n",
       "      <th>...</th>\n",
       "      <td>...</td>\n",
       "      <td>...</td>\n",
       "      <td>...</td>\n",
       "    </tr>\n",
       "    <tr>\n",
       "      <th>29155</th>\n",
       "      <td>힙해</td>\n",
       "      <td>[GN0400, GN0401, GN0403, GN0402, GN0300, GN030...</td>\n",
       "      <td>{'GN0300': 91, 'GN0301': 91, 'GN0303': 80, 'GN...</td>\n",
       "    </tr>\n",
       "    <tr>\n",
       "      <th>29156</th>\n",
       "      <td>힙힙힙</td>\n",
       "      <td>[GN0300, GN0302, GN0301, GN0300, GN0303, GN030...</td>\n",
       "      <td>{'GN0400': 32, 'GN0401': 32, 'GN0300': 28, 'GN...</td>\n",
       "    </tr>\n",
       "    <tr>\n",
       "      <th>29157</th>\n",
       "      <td>힛뎀포크</td>\n",
       "      <td>[GN1200, GN1201, GN1200, GN1201, GN1202, GN120...</td>\n",
       "      <td>{'GN1200': 57, 'GN1201': 57, 'GN1202': 11, 'GN...</td>\n",
       "    </tr>\n",
       "    <tr>\n",
       "      <th>29158</th>\n",
       "      <td>힛뎀폭</td>\n",
       "      <td>[GN1200, GN1201, GN1200, GN1201, GN1202, GN120...</td>\n",
       "      <td>{'GN1200': 57, 'GN1201': 57, 'GN1202': 11, 'GN...</td>\n",
       "    </tr>\n",
       "    <tr>\n",
       "      <th>29159</th>\n",
       "      <td>힛뎀폭스</td>\n",
       "      <td>[GN1200, GN1201, GN1200, GN1201, GN1202, GN120...</td>\n",
       "      <td>{'GN1200': 76, 'GN1201': 76, 'GN1202': 13, 'GN...</td>\n",
       "    </tr>\n",
       "  </tbody>\n",
       "</table>\n",
       "<p>29160 rows × 3 columns</p>\n",
       "</div>"
      ],
      "text/plain": [
       "         tags                                                 gn  \\\n",
       "0              [GN1200, GN1209, GN1201, GN1300, GN1301, GN130...   \n",
       "1          00  [GN2500, GN0200, GN2503, GN2501, GN0204, GN250...   \n",
       "2         007  [GN1500, GN1000, GN1006, GN1503, GN1501, GN150...   \n",
       "3      007시리즈  [GN1500, GN1503, GN1501, GN1500, GN1503, GN150...   \n",
       "4         00s  [GN0100, GN0101, GN0103, GN0200, GN0203, GN020...   \n",
       "...       ...                                                ...   \n",
       "29155      힙해  [GN0400, GN0401, GN0403, GN0402, GN0300, GN030...   \n",
       "29156     힙힙힙  [GN0300, GN0302, GN0301, GN0300, GN0303, GN030...   \n",
       "29157    힛뎀포크  [GN1200, GN1201, GN1200, GN1201, GN1202, GN120...   \n",
       "29158     힛뎀폭  [GN1200, GN1201, GN1200, GN1201, GN1202, GN120...   \n",
       "29159    힛뎀폭스  [GN1200, GN1201, GN1200, GN1201, GN1202, GN120...   \n",
       "\n",
       "                                                  gn_num  \n",
       "0      {'GN1200': 15, 'GN1201': 15, 'GN1300': 10, 'GN...  \n",
       "1      {'GN0300': 46, 'GN0301': 46, 'GN0200': 37, 'GN...  \n",
       "2      {'GN1500': 31, 'GN1501': 31, 'GN1503': 28, 'GN...  \n",
       "3      {'GN0900': 18, 'GN0901': 16, 'GN1500': 12, 'GN...  \n",
       "4      {'GN0100': 125, 'GN0101': 116, 'GN0104': 69, '...  \n",
       "...                                                  ...  \n",
       "29155  {'GN0300': 91, 'GN0301': 91, 'GN0303': 80, 'GN...  \n",
       "29156  {'GN0400': 32, 'GN0401': 32, 'GN0300': 28, 'GN...  \n",
       "29157  {'GN1200': 57, 'GN1201': 57, 'GN1202': 11, 'GN...  \n",
       "29158  {'GN1200': 57, 'GN1201': 57, 'GN1202': 11, 'GN...  \n",
       "29159  {'GN1200': 76, 'GN1201': 76, 'GN1202': 13, 'GN...  \n",
       "\n",
       "[29160 rows x 3 columns]"
      ]
     },
     "execution_count": 1,
     "metadata": {},
     "output_type": "execute_result"
    }
   ],
   "source": [
    "pd.read_json('datas/tag_gns.json')"
   ]
  },
  {
   "cell_type": "code",
   "execution_count": null,
   "metadata": {},
   "outputs": [],
   "source": []
  }
 ],
 "metadata": {
  "kernelspec": {
   "display_name": "Python 3",
   "language": "python",
   "name": "python3"
  },
  "language_info": {
   "codemirror_mode": {
    "name": "ipython",
    "version": 3
   },
   "file_extension": ".py",
   "mimetype": "text/x-python",
   "name": "python",
   "nbconvert_exporter": "python",
   "pygments_lexer": "ipython3",
   "version": "3.7.6"
  }
 },
 "nbformat": 4,
 "nbformat_minor": 4
}
